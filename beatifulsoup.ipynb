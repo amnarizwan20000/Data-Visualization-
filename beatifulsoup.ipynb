{
 "cells": [
  {
   "cell_type": "markdown",
   "id": "ebd00b58",
   "metadata": {},
   "source": [
    "# python 2.7.1\n",
    "* first digit 2= represent base platform (frame, backend, language,syntax)\n",
    "* second digit 7 = show new features add or removed\n",
    "* third digit bugs ans issues"
   ]
  },
  {
   "cell_type": "code",
   "execution_count": 2,
   "id": "04437337",
   "metadata": {},
   "outputs": [
    {
     "name": "stdout",
     "output_type": "stream",
     "text": [
      "Defaulting to user installation because normal site-packages is not writeable\n",
      "Requirement already satisfied: beautifulsoup4 in c:\\programdata\\anaconda3\\amna\\lib\\site-packages (4.11.1)\n",
      "Requirement already satisfied: soupsieve>1.2 in c:\\programdata\\anaconda3\\amna\\lib\\site-packages (from beautifulsoup4) (2.3.2.post1)\n"
     ]
    }
   ],
   "source": [
    "! pip install beautifulsoup4"
   ]
  },
  {
   "cell_type": "code",
   "execution_count": 13,
   "id": "cf355f72",
   "metadata": {},
   "outputs": [
    {
     "name": "stdout",
     "output_type": "stream",
     "text": [
      "<html>\n",
      " <head>\n",
      "  <title>\n",
      "   The Dormouse's story\n",
      "  </title>\n",
      " </head>\n",
      " <body>\n",
      "  <p class=\"title\">\n",
      "   <b>\n",
      "    The Dormouse's story\n",
      "   </b>\n",
      "  </p>\n",
      "  <p class=\"story\">\n",
      "   Once upon a time there were three little sisters; and their names were\n",
      "   <a class=\"sister\" href=\"http://example.com/elsie\" id=\"link1\">\n",
      "    Elsie\n",
      "   </a>\n",
      "   ,\n",
      "   <a class=\"sister\" href=\"http://example.com/lacie\" id=\"link2\">\n",
      "    Lacie\n",
      "   </a>\n",
      "   and\n",
      "   <a class=\"sister\" href=\"http://example.com/tillie\" id=\"link3\">\n",
      "    Tillie\n",
      "   </a>\n",
      "   ;\n",
      "and they lived at the bottom of a well.\n",
      "  </p>\n",
      "  <p class=\"story\">\n",
      "   ...\n",
      "  </p>\n",
      " </body>\n",
      "</html>\n"
     ]
    }
   ],
   "source": [
    "html_doc = \"\"\"<html><head><title>The Dormouse's story</title></head>\n",
    "<body>\n",
    "<p class=\"title\"><b>The Dormouse's story</b></p>\n",
    "\n",
    "<p class=\"story\">Once upon a time there were three little sisters; and their names were\n",
    "<a href=\"http://example.com/elsie\" class=\"sister\" id=\"link1\">Elsie</a>,\n",
    "<a href=\"http://example.com/lacie\" class=\"sister\" id=\"link2\">Lacie</a> and\n",
    "<a href=\"http://example.com/tillie\" class=\"sister\" id=\"link3\">Tillie</a>;\n",
    "and they lived at the bottom of a well.</p>\n",
    "\n",
    "<p class=\"story\">...</p>\n",
    "\"\"\"\n",
    "\n",
    "from bs4 import BeautifulSoup\n",
    "soup = BeautifulSoup(html_doc, \"html.parser\")\n",
    "#print(soup)\n",
    "print(soup.prettify())"
   ]
  },
  {
   "cell_type": "code",
   "execution_count": 14,
   "id": "0e7c597b",
   "metadata": {},
   "outputs": [
    {
     "data": {
      "text/plain": [
       "str"
      ]
     },
     "metadata": {},
     "output_type": "display_data"
    },
    {
     "data": {
      "text/plain": [
       "bs4.BeautifulSoup"
      ]
     },
     "metadata": {},
     "output_type": "display_data"
    }
   ],
   "source": [
    "display(type(html_doc))\n",
    "display(type(soup))"
   ]
  },
  {
   "cell_type": "code",
   "execution_count": 15,
   "id": "bf5f6fd5",
   "metadata": {},
   "outputs": [
    {
     "name": "stdout",
     "output_type": "stream",
     "text": [
      "[<a class=\"sister\" href=\"http://example.com/elsie\" id=\"link1\">Elsie</a>, <a class=\"sister\" href=\"http://example.com/lacie\" id=\"link2\">Lacie</a>, <a class=\"sister\" href=\"http://example.com/tillie\" id=\"link3\">Tillie</a>]\n"
     ]
    }
   ],
   "source": [
    "#print(soup.title)\n",
    "#print(soup.title.text)\n",
    "#print(soup.title.name)\n",
    "#print(soup.title.parent)\n",
    "#print(soup.title.parent.name)\n",
    "#print(soup.p)\n",
    "#print(soup.p[\"class\"])\n",
    "print(soup.find_all(\"a\"))\n"
   ]
  },
  {
   "cell_type": "code",
   "execution_count": 16,
   "id": "55f565df",
   "metadata": {},
   "outputs": [
    {
     "name": "stdout",
     "output_type": "stream",
     "text": [
      "Elsie http://example.com/elsie\n",
      "\n",
      "Lacie http://example.com/lacie\n",
      "\n",
      "Tillie http://example.com/tillie\n",
      "\n"
     ]
    }
   ],
   "source": [
    "for row in soup.find_all(\"a\"):\n",
    "    print(row.text,row.get(\"href\"))\n",
    "    print()"
   ]
  },
  {
   "cell_type": "code",
   "execution_count": 4,
   "id": "45f8c4e6",
   "metadata": {},
   "outputs": [
    {
     "name": "stdout",
     "output_type": "stream",
     "text": [
      "['title']\n",
      "not story class\n",
      "\n",
      "['story']\n",
      "Once upon a time there were three little sisters; and their names were\n",
      "Elsie,\n",
      "Lacie and\n",
      "Tillie;\n",
      "and they lived at the bottom of a well.\n",
      "['story']\n",
      "...\n"
     ]
    }
   ],
   "source": [
    "for row in soup.find_all(\"p\"):\n",
    "    print(row.get(\"class\"))\n",
    "    if \"story\" in row.get(\"class\"):\n",
    "        print(row.text)\n",
    "    else:\n",
    "        print(\"not story class\")\n",
    "        print()\n",
    "            "
   ]
  },
  {
   "cell_type": "code",
   "execution_count": 14,
   "id": "83271bcb",
   "metadata": {},
   "outputs": [
    {
     "name": "stdout",
     "output_type": "stream",
     "text": [
      "p\n",
      "['title']\n",
      "None\n",
      "None\n",
      "The Dormouse's story\n",
      "===============================\n",
      "p\n",
      "['story']\n",
      "None\n",
      "None\n",
      "Once upon a time there were three little sisters; and their names were\n",
      "Elsie,\n",
      "Lacie and\n",
      "Tillie;\n",
      "and they lived at the bottom of a well.\n",
      "===============================\n",
      "p\n",
      "['story']\n",
      "None\n",
      "None\n",
      "...\n",
      "===============================\n"
     ]
    }
   ],
   "source": [
    "l = soup.find_all('p')\n",
    "for a in l:\n",
    "    \n",
    "    print(a.name)\n",
    "    print(a.get('class'))\n",
    "    print(a.get('href'))\n",
    "    print(a.get('id'))\n",
    "    print(a.text)\n",
    "    print('===============================')"
   ]
  },
  {
   "cell_type": "code",
   "execution_count": 17,
   "id": "d2718396",
   "metadata": {},
   "outputs": [
    {
     "name": "stdout",
     "output_type": "stream",
     "text": [
      "['a', ['sister'], 'http://example.com/elsie', 'link1', 'Elsie']\n",
      "===============================\n",
      "['a', ['sister'], 'http://example.com/lacie', 'link2', 'Lacie']\n",
      "===============================\n",
      "['a', ['sister'], 'http://example.com/tillie', 'link3', 'Tillie']\n",
      "===============================\n"
     ]
    }
   ],
   "source": [
    "l1 = []\n",
    "l = soup.find_all('a')\n",
    "for a in l:\n",
    "    b = [a.name,\n",
    "         a.get('class'),\n",
    "         a.get('href'),\n",
    "        a.get('id'),\n",
    "        a.text]\n",
    "    l1.append(b)\n",
    "    print(b)\n",
    "    print('===============================')"
   ]
  },
  {
   "cell_type": "code",
   "execution_count": 27,
   "id": "ce7372e9",
   "metadata": {},
   "outputs": [
    {
     "name": "stdout",
     "output_type": "stream",
     "text": [
      "<class 'http.client.HTTPResponse'>\n"
     ]
    }
   ],
   "source": [
    "from urllib.request import urlopen\n",
    "with urlopen(\"https://www.example.com\") as response:\n",
    "    print(type(response))\n",
    "    body = response.read()"
   ]
  },
  {
   "cell_type": "code",
   "execution_count": 30,
   "id": "665ede21",
   "metadata": {},
   "outputs": [
    {
     "name": "stdout",
     "output_type": "stream",
     "text": [
      "<!DOCTYPE html>\n",
      "<html>\n",
      " <head>\n",
      "  <title>\n",
      "   Example Domain\n",
      "  </title>\n",
      "  <meta charset=\"utf-8\"/>\n",
      "  <meta content=\"text/html; charset=utf-8\" http-equiv=\"Content-type\"/>\n",
      "  <meta content=\"width=device-width, initial-scale=1\" name=\"viewport\"/>\n",
      "  <style type=\"text/css\">\n",
      "   body {\n",
      "        background-color: #f0f0f2;\n",
      "        margin: 0;\n",
      "        padding: 0;\n",
      "        font-family: -apple-system, system-ui, BlinkMacSystemFont, \"Segoe UI\", \"Open Sans\", \"Helvetica Neue\", Helvetica, Arial, sans-serif;\n",
      "        \n",
      "    }\n",
      "    div {\n",
      "        width: 600px;\n",
      "        margin: 5em auto;\n",
      "        padding: 2em;\n",
      "        background-color: #fdfdff;\n",
      "        border-radius: 0.5em;\n",
      "        box-shadow: 2px 3px 7px 2px rgba(0,0,0,0.02);\n",
      "    }\n",
      "    a:link, a:visited {\n",
      "        color: #38488f;\n",
      "        text-decoration: none;\n",
      "    }\n",
      "    @media (max-width: 700px) {\n",
      "        div {\n",
      "            margin: 0 auto;\n",
      "            width: auto;\n",
      "        }\n",
      "    }\n",
      "  </style>\n",
      " </head>\n",
      " <body>\n",
      "  <div>\n",
      "   <h1>\n",
      "    Example Domain\n",
      "   </h1>\n",
      "   <p>\n",
      "    This domain is for use in illustrative examples in documents. You may use this\n",
      "    domain in literature without prior coordination or asking for permission.\n",
      "   </p>\n",
      "   <p>\n",
      "    <a href=\"https://www.iana.org/domains/example\">\n",
      "     More information...\n",
      "    </a>\n",
      "   </p>\n",
      "  </div>\n",
      " </body>\n",
      "</html>\n",
      "\n"
     ]
    }
   ],
   "source": [
    "s1 = BeautifulSoup(body, 'html.parser')\n",
    "print(s1.prettify())"
   ]
  },
  {
   "cell_type": "code",
   "execution_count": 42,
   "id": "4bd0cbfd",
   "metadata": {},
   "outputs": [
    {
     "name": "stdout",
     "output_type": "stream",
     "text": [
      "[<p class=\"title\"><b>The Dormouse's story</b></p>, <p class=\"story\">Once upon a time there were three little sisters; and their names were\n",
      "<a class=\"sister\" href=\"http://example.com/elsie\" id=\"link1\">Elsie</a>,\n",
      "<a class=\"sister\" href=\"http://example.com/lacie\" id=\"link2\">Lacie</a> and\n",
      "<a class=\"sister\" href=\"http://example.com/tillie\" id=\"link3\">Tillie</a>;\n",
      "and they lived at the bottom of a well.</p>, <p class=\"story\">...</p>]\n"
     ]
    }
   ],
   "source": [
    "print(soup.find_all(\"p\"))"
   ]
  },
  {
   "cell_type": "code",
   "execution_count": 18,
   "id": "44bb7adf",
   "metadata": {},
   "outputs": [
    {
     "data": {
      "text/html": [
       "<div>\n",
       "<style scoped>\n",
       "    .dataframe tbody tr th:only-of-type {\n",
       "        vertical-align: middle;\n",
       "    }\n",
       "\n",
       "    .dataframe tbody tr th {\n",
       "        vertical-align: top;\n",
       "    }\n",
       "\n",
       "    .dataframe thead th {\n",
       "        text-align: right;\n",
       "    }\n",
       "</style>\n",
       "<table border=\"1\" class=\"dataframe\">\n",
       "  <thead>\n",
       "    <tr style=\"text-align: right;\">\n",
       "      <th></th>\n",
       "      <th>tags</th>\n",
       "      <th>class</th>\n",
       "      <th>href</th>\n",
       "      <th>id</th>\n",
       "      <th>text</th>\n",
       "    </tr>\n",
       "  </thead>\n",
       "  <tbody>\n",
       "    <tr>\n",
       "      <th>0</th>\n",
       "      <td>a</td>\n",
       "      <td>[sister]</td>\n",
       "      <td>http://example.com/elsie</td>\n",
       "      <td>link1</td>\n",
       "      <td>Elsie</td>\n",
       "    </tr>\n",
       "    <tr>\n",
       "      <th>1</th>\n",
       "      <td>a</td>\n",
       "      <td>[sister]</td>\n",
       "      <td>http://example.com/lacie</td>\n",
       "      <td>link2</td>\n",
       "      <td>Lacie</td>\n",
       "    </tr>\n",
       "    <tr>\n",
       "      <th>2</th>\n",
       "      <td>a</td>\n",
       "      <td>[sister]</td>\n",
       "      <td>http://example.com/tillie</td>\n",
       "      <td>link3</td>\n",
       "      <td>Tillie</td>\n",
       "    </tr>\n",
       "  </tbody>\n",
       "</table>\n",
       "</div>"
      ],
      "text/plain": [
       "  tags     class                       href     id    text\n",
       "0    a  [sister]   http://example.com/elsie  link1   Elsie\n",
       "1    a  [sister]   http://example.com/lacie  link2   Lacie\n",
       "2    a  [sister]  http://example.com/tillie  link3  Tillie"
      ]
     },
     "execution_count": 18,
     "metadata": {},
     "output_type": "execute_result"
    }
   ],
   "source": [
    "import pandas as pd\n",
    "df = pd.DataFrame(l1,columns=[\"tags\",\"class\",'href','id','text'])\n",
    "df"
   ]
  },
  {
   "cell_type": "code",
   "execution_count": 19,
   "id": "9a75c066",
   "metadata": {},
   "outputs": [
    {
     "data": {
      "text/html": [
       "<div>\n",
       "<style scoped>\n",
       "    .dataframe tbody tr th:only-of-type {\n",
       "        vertical-align: middle;\n",
       "    }\n",
       "\n",
       "    .dataframe tbody tr th {\n",
       "        vertical-align: top;\n",
       "    }\n",
       "\n",
       "    .dataframe thead th {\n",
       "        text-align: right;\n",
       "    }\n",
       "</style>\n",
       "<table border=\"1\" class=\"dataframe\">\n",
       "  <thead>\n",
       "    <tr style=\"text-align: right;\">\n",
       "      <th></th>\n",
       "      <th>tag</th>\n",
       "      <th>Link</th>\n",
       "    </tr>\n",
       "  </thead>\n",
       "  <tbody>\n",
       "    <tr>\n",
       "      <th>0</th>\n",
       "      <td>[\\n, [], \\n]</td>\n",
       "      <td>https://www.w3schools.com</td>\n",
       "    </tr>\n",
       "    <tr>\n",
       "      <th>1</th>\n",
       "      <td>[Tutorials , [], []]</td>\n",
       "      <td>javascript:void(0)</td>\n",
       "    </tr>\n",
       "    <tr>\n",
       "      <th>2</th>\n",
       "      <td>[References , [], []]</td>\n",
       "      <td>javascript:void(0)</td>\n",
       "    </tr>\n",
       "    <tr>\n",
       "      <th>3</th>\n",
       "      <td>[Exercises , [], []]</td>\n",
       "      <td>javascript:void(0)</td>\n",
       "    </tr>\n",
       "    <tr>\n",
       "      <th>4</th>\n",
       "      <td>[Bootcamps]</td>\n",
       "      <td>/bootcamp/index.php</td>\n",
       "    </tr>\n",
       "    <tr>\n",
       "      <th>...</th>\n",
       "      <td>...</td>\n",
       "      <td>...</td>\n",
       "    </tr>\n",
       "    <tr>\n",
       "      <th>364</th>\n",
       "      <td>[[]]</td>\n",
       "      <td>https://www.facebook.com/w3schoolscom/</td>\n",
       "    </tr>\n",
       "    <tr>\n",
       "      <th>365</th>\n",
       "      <td>[terms of use]</td>\n",
       "      <td>/about/about_copyright.asp</td>\n",
       "    </tr>\n",
       "    <tr>\n",
       "      <th>366</th>\n",
       "      <td>[cookie and privacy policy]</td>\n",
       "      <td>/about/about_privacy.asp</td>\n",
       "    </tr>\n",
       "    <tr>\n",
       "      <th>367</th>\n",
       "      <td>[Copyright 1999-2023]</td>\n",
       "      <td>/about/about_copyright.asp</td>\n",
       "    </tr>\n",
       "    <tr>\n",
       "      <th>368</th>\n",
       "      <td>[\\n, []]</td>\n",
       "      <td>javascript:void(0);</td>\n",
       "    </tr>\n",
       "  </tbody>\n",
       "</table>\n",
       "<p>369 rows × 2 columns</p>\n",
       "</div>"
      ],
      "text/plain": [
       "                             tag                                    Link\n",
       "0                   [\\n, [], \\n]               https://www.w3schools.com\n",
       "1           [Tutorials , [], []]                      javascript:void(0)\n",
       "2          [References , [], []]                      javascript:void(0)\n",
       "3           [Exercises , [], []]                      javascript:void(0)\n",
       "4                    [Bootcamps]                     /bootcamp/index.php\n",
       "..                           ...                                     ...\n",
       "364                         [[]]  https://www.facebook.com/w3schoolscom/\n",
       "365               [terms of use]              /about/about_copyright.asp\n",
       "366  [cookie and privacy policy]                /about/about_privacy.asp\n",
       "367        [Copyright 1999-2023]              /about/about_copyright.asp\n",
       "368                     [\\n, []]                     javascript:void(0);\n",
       "\n",
       "[369 rows x 2 columns]"
      ]
     },
     "execution_count": 19,
     "metadata": {},
     "output_type": "execute_result"
    }
   ],
   "source": [
    "import requests\n",
    "url=\"https://www.w3schools.com\"\n",
    "\n",
    "response = requests.get(url)\n",
    "\n",
    "soup = BeautifulSoup(response.content, \"html.parser\")\n",
    "tags=soup.find_all(\"a\")\n",
    "#links = [tag[\"href\"]for tag in tags if tag.has_attr(\"href\")]\n",
    "soup.find_all(\"href\")\n",
    "df= pd.DataFrame({\"tag\":tags, \"Link\":links})\n",
    "df"
   ]
  },
  {
   "cell_type": "code",
   "execution_count": null,
   "id": "dd474f36",
   "metadata": {},
   "outputs": [],
   "source": []
  }
 ],
 "metadata": {
  "kernelspec": {
   "display_name": "Python 3 (ipykernel)",
   "language": "python",
   "name": "python3"
  },
  "language_info": {
   "codemirror_mode": {
    "name": "ipython",
    "version": 3
   },
   "file_extension": ".py",
   "mimetype": "text/x-python",
   "name": "python",
   "nbconvert_exporter": "python",
   "pygments_lexer": "ipython3",
   "version": "3.10.9"
  }
 },
 "nbformat": 4,
 "nbformat_minor": 5
}
