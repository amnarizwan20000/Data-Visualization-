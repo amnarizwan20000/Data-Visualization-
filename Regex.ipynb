{
 "cells": [
  {
   "cell_type": "code",
   "execution_count": 1,
   "id": "821cd725",
   "metadata": {},
   "outputs": [],
   "source": [
    "import re"
   ]
  },
  {
   "cell_type": "code",
   "execution_count": 2,
   "id": "423d3f38",
   "metadata": {},
   "outputs": [
    {
     "data": {
      "text/plain": [
       "['pa']"
      ]
     },
     "execution_count": 2,
     "metadata": {},
     "output_type": "execute_result"
    }
   ],
   "source": [
    "text= \"\"\"\n",
    "palistan zinda bad\n",
    "we love our country\n",
    "hello world\n",
    "\"\"\"\n",
    "\n",
    "re.findall(\"pa\",text)"
   ]
  },
  {
   "cell_type": "code",
   "execution_count": 7,
   "id": "5a793e38",
   "metadata": {},
   "outputs": [
    {
     "data": {
      "text/plain": [
       "['pa', 'ta', 'da', 'ba']"
      ]
     },
     "execution_count": 7,
     "metadata": {},
     "output_type": "execute_result"
    }
   ],
   "source": [
    "text= \"\"\"\n",
    "palistan zinda bad\n",
    "we love our country\n",
    "hello world\n",
    "\"\"\"\n",
    "#  [] use for optional character \n",
    "re.findall(\"[pdtb]a\",text)"
   ]
  },
  {
   "cell_type": "code",
   "execution_count": 8,
   "id": "76ccddc3",
   "metadata": {},
   "outputs": [
    {
     "data": {
      "text/plain": [
       "['pa', 'ta', 'da', 'ba']"
      ]
     },
     "execution_count": 8,
     "metadata": {},
     "output_type": "execute_result"
    }
   ],
   "source": [
    "text= \"\"\"\n",
    "palistan zinda bad\n",
    "we love our country\n",
    "hello world\n",
    "\"\"\"\n",
    "#  two character pattern\n",
    "re.findall(\".a\",text)"
   ]
  },
  {
   "cell_type": "code",
   "execution_count": 10,
   "id": "aa486ec4",
   "metadata": {},
   "outputs": [
    {
     "data": {
      "text/plain": [
       "['tan', 'zin', 'oun']"
      ]
     },
     "execution_count": 10,
     "metadata": {},
     "output_type": "execute_result"
    }
   ],
   "source": [
    "text= \"\"\"\n",
    "palistan zinda bad\n",
    "we love our country\n",
    "hello world\n",
    "\"\"\"\n",
    "re.findall(\"..n\",text)"
   ]
  },
  {
   "cell_type": "code",
   "execution_count": 12,
   "id": "51ff3873",
   "metadata": {},
   "outputs": [
    {
     "data": {
      "text/plain": [
       "['111', '33', '23', '23', '884', '12']"
      ]
     },
     "execution_count": 12,
     "metadata": {},
     "output_type": "execute_result"
    }
   ],
   "source": [
    "text= \"\"\"\n",
    "palistan zinda bad\n",
    "we love our country\n",
    "hello world\n",
    "aaa bbb cc aaaaa\n",
    "111 ccc a 33 23\n",
    "aa23r 884FG kRAS12gc\n",
    "\"\"\"\n",
    "# + means one or many\n",
    "re.findall(\"[0123456789]+\",text)"
   ]
  },
  {
   "cell_type": "code",
   "execution_count": 13,
   "id": "3c5873e2",
   "metadata": {},
   "outputs": [
    {
     "data": {
      "text/plain": [
       "['nedcc001']"
      ]
     },
     "execution_count": 13,
     "metadata": {},
     "output_type": "execute_result"
    }
   ],
   "source": [
    "text= \"\"\"\n",
    "palistan zinda bad\n",
    "we love our country\n",
    "hello world nedai\n",
    "aaa bbb cc aaaaa\n",
    "111 ccc a 33 23\n",
    "aa23r 884FG nedcc001\n",
    "\n",
    "ned\n",
    "\"\"\"\n",
    "# + means one or many\n",
    "re.findall(\"nedcc[0123456789]+\",text)"
   ]
  },
  {
   "cell_type": "code",
   "execution_count": 15,
   "id": "632dc4d3",
   "metadata": {},
   "outputs": [
    {
     "data": {
      "text/plain": [
       "['nedai34', 'nedai1']"
      ]
     },
     "execution_count": 15,
     "metadata": {},
     "output_type": "execute_result"
    }
   ],
   "source": [
    "text= \"\"\"\n",
    "palistan zinda bad\n",
    "we love our country\n",
    "hello world nedai\n",
    "aaa bbb cc aaaaa\n",
    "111 ccc a 33 23nedai34\n",
    "aa23r 884FG nedcc001\n",
    "\n",
    "nedai1\n",
    "\"\"\"\n",
    "# + means one or many\n",
    "re.findall(\"nedai[0123456789]+\",text)"
   ]
  },
  {
   "cell_type": "code",
   "execution_count": 16,
   "id": "65d51a5e",
   "metadata": {},
   "outputs": [
    {
     "data": {
      "text/plain": [
       "['nedai', 'nedai34', 'nedai1']"
      ]
     },
     "execution_count": 16,
     "metadata": {},
     "output_type": "execute_result"
    }
   ],
   "source": [
    "text= \"\"\"\n",
    "palistan zinda bad\n",
    "we love our country\n",
    "hello world nedai\n",
    "aaa bbb cc aaaaa\n",
    "111 ccc a 33 23nedai34\n",
    "aa23r 884FG nedcc001\n",
    "\n",
    "nedai1\n",
    "\"\"\"\n",
    "# * means zero or many\n",
    "re.findall(\"nedai[0123456789]*\",text)"
   ]
  },
  {
   "cell_type": "code",
   "execution_count": 17,
   "id": "1d054b4b",
   "metadata": {},
   "outputs": [
    {
     "data": {
      "text/plain": [
       "['nedai', 'nedai34', 'nedai1']"
      ]
     },
     "execution_count": 17,
     "metadata": {},
     "output_type": "execute_result"
    }
   ],
   "source": [
    "text= \"\"\"\n",
    "palistan zinda bad\n",
    "we love our country\n",
    "hello world nedai\n",
    "aaa bbb cc aaaaa\n",
    "111 ccc a 33 23nedai34\n",
    "aa23r 884FG nedcc001\n",
    "\n",
    "nedai1\n",
    "\"\"\"\n",
    "# + means one or many\n",
    "re.findall(\"nedai[0-9]*\",text)"
   ]
  },
  {
   "cell_type": "code",
   "execution_count": 19,
   "id": "3763dd4b",
   "metadata": {},
   "outputs": [
    {
     "data": {
      "text/plain": [
       "['palistan',\n",
       " 'zinda',\n",
       " 'bad',\n",
       " 'we',\n",
       " 'love',\n",
       " 'our',\n",
       " 'country',\n",
       " 'hello',\n",
       " 'world',\n",
       " 'nedai',\n",
       " 'aaa',\n",
       " 'bbb',\n",
       " 'cc',\n",
       " 'aaaaa',\n",
       " 'ccc',\n",
       " 'a',\n",
       " 'nedai',\n",
       " 'aa',\n",
       " 'r',\n",
       " 'nedcc',\n",
       " 'nedai']"
      ]
     },
     "execution_count": 19,
     "metadata": {},
     "output_type": "execute_result"
    }
   ],
   "source": [
    "re.findall('[a-z]+',text)"
   ]
  },
  {
   "cell_type": "code",
   "execution_count": 20,
   "id": "3e142193",
   "metadata": {},
   "outputs": [
    {
     "data": {
      "text/plain": [
       "['palistan',\n",
       " 'zinda',\n",
       " 'bad',\n",
       " 'we',\n",
       " 'love',\n",
       " 'our',\n",
       " 'country',\n",
       " 'hello',\n",
       " 'world',\n",
       " 'nedai',\n",
       " 'aaa',\n",
       " 'bbb',\n",
       " 'cc',\n",
       " 'aaaaa',\n",
       " '111',\n",
       " 'ccc',\n",
       " 'a',\n",
       " '33',\n",
       " '23nedai34',\n",
       " 'aa23r',\n",
       " '884FG',\n",
       " 'nedcc001',\n",
       " 'nedai1']"
      ]
     },
     "execution_count": 20,
     "metadata": {},
     "output_type": "execute_result"
    }
   ],
   "source": [
    "re.findall('[A-z0-9]+',text)"
   ]
  },
  {
   "cell_type": "code",
   "execution_count": 21,
   "id": "96b92255",
   "metadata": {},
   "outputs": [
    {
     "data": {
      "text/plain": [
       "['-5', '-2']"
      ]
     },
     "execution_count": 21,
     "metadata": {},
     "output_type": "execute_result"
    }
   ],
   "source": [
    "text = \"\"\"\n",
    "pakistan-zinda-bad\n",
    "we love our country!\n",
    "\n",
    "abc -7 efg -5 xyz -2\n",
    "\"\"\"\n",
    "\n",
    "re.findall('-[1-5]+',text)"
   ]
  },
  {
   "cell_type": "code",
   "execution_count": 24,
   "id": "e5961986",
   "metadata": {},
   "outputs": [
    {
     "data": {
      "text/plain": [
       "['NED001', 'NED222', 'NED-555', 'NED123']"
      ]
     },
     "execution_count": 24,
     "metadata": {},
     "output_type": "execute_result"
    }
   ],
   "source": [
    "text = \"\"\"\n",
    "pakistan abc food mobile number 0092315-2968211 adfa\n",
    "abc food center mobile +92315-3253436 AAA\n",
    "0341123456\n",
    "\n",
    "\n",
    "# \\d is numbers, converts speacial into normal characters\n",
    "NED001\n",
    "NED222\n",
    "NED-5553\n",
    "NED123456789\n",
    "\"\"\"\n",
    "\n",
    "re.findall('NED-*\\d{3}',text)"
   ]
  },
  {
   "cell_type": "code",
   "execution_count": null,
   "id": "df282e54",
   "metadata": {},
   "outputs": [],
   "source": [
    "# for boundary of any word use \\b\n",
    "# for converting speacial into normal use \\\n"
   ]
  }
 ],
 "metadata": {
  "kernelspec": {
   "display_name": "Python 3 (ipykernel)",
   "language": "python",
   "name": "python3"
  },
  "language_info": {
   "codemirror_mode": {
    "name": "ipython",
    "version": 3
   },
   "file_extension": ".py",
   "mimetype": "text/x-python",
   "name": "python",
   "nbconvert_exporter": "python",
   "pygments_lexer": "ipython3",
   "version": "3.10.9"
  }
 },
 "nbformat": 4,
 "nbformat_minor": 5
}
